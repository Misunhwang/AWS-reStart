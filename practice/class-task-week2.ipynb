{
 "cells": [
  {
   "cell_type": "code",
   "execution_count": 2,
   "metadata": {},
   "outputs": [],
   "source": [
    "class Car:\n",
    "    pass"
   ]
  },
  {
   "cell_type": "code",
   "execution_count": 4,
   "metadata": {},
   "outputs": [
    {
     "name": "stdout",
     "output_type": "stream",
     "text": [
      "<__main__.Car object at 0x000001F6FF4EEB10> <__main__.Car object at 0x000001F6FF4D8890>\n"
     ]
    }
   ],
   "source": [
    "class Car:\n",
    "    def __init__(self, brand):\n",
    "        self.brand = brand\n",
    "\n",
    "my_car = Car(brand='Ractis')\n",
    "your_car = Car(brand='Toyota')\n",
    "print(my_car, your_car)"
   ]
  },
  {
   "cell_type": "code",
   "execution_count": 9,
   "metadata": {},
   "outputs": [
    {
     "name": "stdout",
     "output_type": "stream",
     "text": [
      "{'brand': 'Toyota', 'milage_km': 70000}\n"
     ]
    }
   ],
   "source": [
    "class Car:\n",
    "    def __init__(self, brand, milage_km):\n",
    "        self.brand = brand\n",
    "        self.milage_km = milage_km\n",
    "\n",
    "    def drive(self, distance_km):\n",
    "        self.milage_km += distance_km\n",
    "\n",
    "# my_car = Car(brand=\"Toyota\", milage_km=40000)\n",
    "\n",
    "my_car = Car(\"Toyota\", 40000)\n",
    "my_car.drive(30000)\n",
    "\n",
    "print(my_car.__dict__) # {'brand': 'Toyota', 'milage_km': 40000}"
   ]
  },
  {
   "cell_type": "code",
   "execution_count": 22,
   "metadata": {},
   "outputs": [
    {
     "name": "stdout",
     "output_type": "stream",
     "text": [
      "{'brand': 'Toyota', 'milage_km': 43000, 'range': 40}\n",
      "{'brand': 'Ractis', 'milage_km': 27000, 'fuel_consumption': 10, 'fuel_level': 80}\n"
     ]
    }
   ],
   "source": [
    "class Car:\n",
    "    def __init__(self, brand, milage_km):\n",
    "        self.brand = brand\n",
    "        self.milage_km = milage_km\n",
    "\n",
    "    def drive(self, distance_km):\n",
    "        self.milage_km += distance_km\n",
    "\n",
    "class ElectricCar(Car):\n",
    "    def __init__(self, brand, milage_km, range):\n",
    "        super().__init__(brand, milage_km)\n",
    "        self.range = range\n",
    "\n",
    "    def drive(self, distance_km, range):\n",
    "        self.milage_km += distance_km\n",
    "\n",
    "class IceCar(Car):\n",
    "    def __init__(self, brand, milage_km, fuel_consumption, fuel_level):\n",
    "        Car.__init__(self, brand, milage_km)\n",
    "        self.fuel_consumption = fuel_consumption\n",
    "        self.fuel_level = fuel_level\n",
    "\n",
    "    def drive(self, distance_km):\n",
    "        self.milage_km += distance_km\n",
    "\n",
    "my_car = ElectricCar(\"Toyota\", 40000, 40)\n",
    "my_car.drive(3000)\n",
    "\n",
    "my_ice = IceCar(\"Ractis\", 25000, 10, 80)\n",
    "my_ice.drive(2000)\n",
    "\n",
    "print(my_car.__dict__) \n",
    "print(my_ice.__dict__) "
   ]
  },
  {
   "cell_type": "code",
   "execution_count": 6,
   "metadata": {},
   "outputs": [
    {
     "name": "stdout",
     "output_type": "stream",
     "text": [
      "---- Electric Car ----\n",
      "{'brand': 'Toyota', 'milage_km': 40000, 'range': 10000}\n",
      "{'brand': 'Toyota', 'milage_km': 40050, 'range': 9950}\n",
      "{'brand': 'Toyota', 'milage_km': 40080, 'range': 9920}\n",
      "{'brand': 'Toyota', 'milage_km': 40100, 'range': 9900}\n",
      "\n",
      "---- Ice Car ----\n",
      "{'brand': 'Ractis', 'milage_km': 20000, 'fuel_consumption': 100, 'fuel_level': 800}\n",
      "{'brand': 'Ractis', 'milage_km': 20050, 'fuel_consumption': 100, 'fuel_level': 750.0}\n",
      "{'brand': 'Ractis', 'milage_km': 20080, 'fuel_consumption': 100, 'fuel_level': 720.0}\n",
      "{'brand': 'Ractis', 'milage_km': 20100, 'fuel_consumption': 100, 'fuel_level': 700.0}\n"
     ]
    }
   ],
   "source": [
    "# Week2 Homework5\n",
    "class Car:\n",
    "    def __init__(self, brand, milage_km):\n",
    "        self.brand = brand\n",
    "        self.milage_km = milage_km\n",
    "\n",
    "    def drive(self, distance_km):\n",
    "        self.milage_km += distance_km\n",
    "\n",
    "class ElectricCar(Car):\n",
    "    def __init__(self, brand, milage_km, range):\n",
    "        super().__init__(brand, milage_km)\n",
    "        self.range = range\n",
    "\n",
    "    def drive(self, distance_km):\n",
    "        super().drive(distance_km)\n",
    "        self.range -= distance_km\n",
    "\n",
    "class IceCar(Car):\n",
    "    def __init__(self, brand, milage_km, fuel_consumption, fuel_level):\n",
    "        Car.__init__(self, brand, milage_km)\n",
    "        self.fuel_consumption = fuel_consumption\n",
    "        self.fuel_level = fuel_level\n",
    "\n",
    "    def drive(self, distance_km):\n",
    "        super().drive(distance_km)\n",
    "        self.fuel_level -= distance_km * self.fuel_consumption/100\n",
    "\n",
    "print(\"---- Electric Car ----\")\n",
    "my_car = ElectricCar(\"Toyota\", 40000, 10000)\n",
    "print(my_car.__dict__) \n",
    "my_car.drive(50)\n",
    "print(my_car.__dict__) \n",
    "my_car.drive(30)\n",
    "print(my_car.__dict__) \n",
    "my_car.drive(20)\n",
    "print(my_car.__dict__) \n",
    "\n",
    "print(\"\\n---- Ice Car ----\")\n",
    "my_ice = IceCar(\"Ractis\", 20000, 100, 800)\n",
    "print(my_ice.__dict__) \n",
    "my_ice.drive(50)\n",
    "print(my_ice.__dict__) \n",
    "my_ice.drive(30)\n",
    "print(my_ice.__dict__) \n",
    "my_ice.drive(20)\n",
    "print(my_ice.__dict__) "
   ]
  },
  {
   "cell_type": "code",
   "execution_count": 22,
   "metadata": {},
   "outputs": [
    {
     "name": "stdout",
     "output_type": "stream",
     "text": [
      "Area of Triangle(3,4,5) :  6.0\n",
      "Area of Triangle(3,4,5) :  19.8997487421324\n",
      "Area of Triangle(3,4,5) :  8.94427190999916\n",
      "AssertionError :  \n"
     ]
    },
    {
     "ename": "ValueError",
     "evalue": "math domain error",
     "output_type": "error",
     "traceback": [
      "\u001b[1;31m---------------------------------------------------------------------------\u001b[0m",
      "\u001b[1;31mValueError\u001b[0m                                Traceback (most recent call last)",
      "\u001b[1;32mc:\\labtest\\AWSrestart\\AWS-reStart\\practice\\class-task-week2.ipynb Cell 6\u001b[0m line \u001b[0;36m3\n\u001b[0;32m     <a href='vscode-notebook-cell:/c%3A/labtest/AWSrestart/AWS-reStart/practice/class-task-week2.ipynb#W5sZmlsZQ%3D%3D?line=30'>31</a>\u001b[0m \u001b[39mprint\u001b[39m(\u001b[39m\"\u001b[39m\u001b[39mArea of Triangle(3,4,5) : \u001b[39m\u001b[39m\"\u001b[39m, trangle\u001b[39m.\u001b[39marea())\n\u001b[0;32m     <a href='vscode-notebook-cell:/c%3A/labtest/AWSrestart/AWS-reStart/practice/class-task-week2.ipynb#W5sZmlsZQ%3D%3D?line=31'>32</a>\u001b[0m trangle \u001b[39m=\u001b[39m Triangle(\u001b[39m1\u001b[39m,\u001b[39m2\u001b[39m,\u001b[39m5\u001b[39m)\n\u001b[1;32m---> <a href='vscode-notebook-cell:/c%3A/labtest/AWSrestart/AWS-reStart/practice/class-task-week2.ipynb#W5sZmlsZQ%3D%3D?line=32'>33</a>\u001b[0m \u001b[39mprint\u001b[39m(\u001b[39m\"\u001b[39m\u001b[39mArea of Triangle(3,4,5) : \u001b[39m\u001b[39m\"\u001b[39m, trangle\u001b[39m.\u001b[39;49marea())\n",
      "\u001b[1;32mc:\\labtest\\AWSrestart\\AWS-reStart\\practice\\class-task-week2.ipynb Cell 6\u001b[0m line \u001b[0;36m2\n\u001b[0;32m     <a href='vscode-notebook-cell:/c%3A/labtest/AWSrestart/AWS-reStart/practice/class-task-week2.ipynb#W5sZmlsZQ%3D%3D?line=21'>22</a>\u001b[0m semi \u001b[39m=\u001b[39m (\u001b[39mself\u001b[39m\u001b[39m.\u001b[39ma \u001b[39m+\u001b[39m \u001b[39mself\u001b[39m\u001b[39m.\u001b[39mb \u001b[39m+\u001b[39m \u001b[39mself\u001b[39m\u001b[39m.\u001b[39mc)\u001b[39m/\u001b[39m\u001b[39m2\u001b[39m\n\u001b[0;32m     <a href='vscode-notebook-cell:/c%3A/labtest/AWSrestart/AWS-reStart/practice/class-task-week2.ipynb#W5sZmlsZQ%3D%3D?line=22'>23</a>\u001b[0m area \u001b[39m=\u001b[39m semi \u001b[39m*\u001b[39m (semi\u001b[39m-\u001b[39m\u001b[39mself\u001b[39m\u001b[39m.\u001b[39ma) \u001b[39m*\u001b[39m (semi\u001b[39m-\u001b[39m\u001b[39mself\u001b[39m\u001b[39m.\u001b[39mb) \u001b[39m*\u001b[39m (semi\u001b[39m-\u001b[39m\u001b[39mself\u001b[39m\u001b[39m.\u001b[39mc)\n\u001b[1;32m---> <a href='vscode-notebook-cell:/c%3A/labtest/AWSrestart/AWS-reStart/practice/class-task-week2.ipynb#W5sZmlsZQ%3D%3D?line=23'>24</a>\u001b[0m \u001b[39mreturn\u001b[39;00m math\u001b[39m.\u001b[39;49msqrt(area)\n",
      "\u001b[1;31mValueError\u001b[0m: math domain error"
     ]
    }
   ],
   "source": [
    "# Week2 Homework6\n",
    "import math\n",
    "\n",
    "class Shape:\n",
    "    def area():\n",
    "        pass\n",
    "\n",
    "class Triangle(Shape):\n",
    "    def __init__(self, a, b, c):\n",
    "        self.a = a\n",
    "        self.b = b\n",
    "        self.c = c\n",
    "\n",
    "        try:\n",
    "            assert a+b > c\n",
    "            assert b+c > a\n",
    "            assert c+a > b\n",
    "        except AssertionError as e:\n",
    "            print(\"AssertionError : \", e)\n",
    "\n",
    "    def area(self):\n",
    "        semi = (self.a + self.b + self.c)/2\n",
    "        area = semi * (semi-self.a) * (semi-self.b) * (semi-self.c)\n",
    "        return math.sqrt(area)\n",
    "    \n",
    "trangle = Triangle(3,4,5)\n",
    "print(\"Area of Triangle(3,4,5) : \", trangle.area())\n",
    "trangle = Triangle(8,9,5)\n",
    "print(\"Area of Triangle(3,4,5) : \", trangle.area())\n",
    "trangle = Triangle(6,3,7)\n",
    "print(\"Area of Triangle(3,4,5) : \", trangle.area())\n",
    "trangle = Triangle(1,2,5)\n",
    "print(\"Area of Triangle(3,4,5) : \", trangle.area())\n"
   ]
  }
 ],
 "metadata": {
  "kernelspec": {
   "display_name": "Python 3",
   "language": "python",
   "name": "python3"
  },
  "language_info": {
   "codemirror_mode": {
    "name": "ipython",
    "version": 3
   },
   "file_extension": ".py",
   "mimetype": "text/x-python",
   "name": "python",
   "nbconvert_exporter": "python",
   "pygments_lexer": "ipython3",
   "version": "3.11.4"
  }
 },
 "nbformat": 4,
 "nbformat_minor": 2
}
