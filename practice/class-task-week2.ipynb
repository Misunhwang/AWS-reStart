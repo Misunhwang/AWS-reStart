{
 "cells": [
  {
   "cell_type": "code",
   "execution_count": 2,
   "metadata": {},
   "outputs": [],
   "source": [
    "class Car:\n",
    "    pass"
   ]
  },
  {
   "cell_type": "code",
   "execution_count": 4,
   "metadata": {},
   "outputs": [
    {
     "name": "stdout",
     "output_type": "stream",
     "text": [
      "<__main__.Car object at 0x000001F6FF4EEB10> <__main__.Car object at 0x000001F6FF4D8890>\n"
     ]
    }
   ],
   "source": [
    "class Car:\n",
    "    def __init__(self, brand):\n",
    "        self.brand = brand\n",
    "\n",
    "my_car = Car(brand='Ractis')\n",
    "your_car = Car(brand='Toyota')\n",
    "print(my_car, your_car)"
   ]
  },
  {
   "cell_type": "code",
   "execution_count": 9,
   "metadata": {},
   "outputs": [
    {
     "name": "stdout",
     "output_type": "stream",
     "text": [
      "{'brand': 'Toyota', 'milage_km': 70000}\n"
     ]
    }
   ],
   "source": [
    "class Car:\n",
    "    def __init__(self, brand, milage_km):\n",
    "        self.brand = brand\n",
    "        self.milage_km = milage_km\n",
    "\n",
    "    def drive(self, distance_km):\n",
    "        self.milage_km += distance_km\n",
    "\n",
    "# my_car = Car(brand=\"Toyota\", milage_km=40000)\n",
    "\n",
    "my_car = Car(\"Toyota\", 40000)\n",
    "my_car.drive(30000)\n",
    "\n",
    "print(my_car.__dict__) # {'brand': 'Toyota', 'milage_km': 40000}"
   ]
  },
  {
   "cell_type": "code",
   "execution_count": 22,
   "metadata": {},
   "outputs": [
    {
     "name": "stdout",
     "output_type": "stream",
     "text": [
      "{'brand': 'Toyota', 'milage_km': 43000, 'range': 40}\n",
      "{'brand': 'Ractis', 'milage_km': 27000, 'fuel_consumption': 10, 'fuel_level': 80}\n"
     ]
    }
   ],
   "source": [
    "class Car:\n",
    "    def __init__(self, brand, milage_km):\n",
    "        self.brand = brand\n",
    "        self.milage_km = milage_km\n",
    "\n",
    "    def drive(self, distance_km):\n",
    "        self.milage_km += distance_km\n",
    "\n",
    "class ElectricCar(Car):\n",
    "    def __init__(self, brand, milage_km, range):\n",
    "        super().__init__(brand, milage_km)\n",
    "        self.range = range\n",
    "\n",
    "    def drive(self, distance_km, range):\n",
    "        self.milage_km += distance_km\n",
    "\n",
    "class IceCar(Car):\n",
    "    def __init__(self, brand, milage_km, fuel_consumption, fuel_level):\n",
    "        Car.__init__(self, brand, milage_km)\n",
    "        self.fuel_consumption = fuel_consumption\n",
    "        self.fuel_level = fuel_level\n",
    "\n",
    "    def drive(self, distance_km):\n",
    "        self.milage_km += distance_km\n",
    "\n",
    "my_car = ElectricCar(\"Toyota\", 40000, 40)\n",
    "my_car.drive(3000)\n",
    "\n",
    "my_ice = IceCar(\"Ractis\", 25000, 10, 80)\n",
    "my_ice.drive(2000)\n",
    "\n",
    "print(my_car.__dict__) \n",
    "print(my_ice.__dict__) "
   ]
  },
  {
   "cell_type": "code",
   "execution_count": 1,
   "metadata": {},
   "outputs": [
    {
     "name": "stdout",
     "output_type": "stream",
     "text": [
      "{'brand': 'Toyota', 'milage_km': 40000, 'range': 10000}\n",
      "{'brand': 'Toyota', 'milage_km': 40050, 'range': 9950}\n",
      "{'brand': 'Toyota', 'milage_km': 40080, 'range': 9920}\n",
      "{'brand': 'Toyota', 'milage_km': 40100, 'range': 9900}\n",
      "{'brand': 'Ractis', 'milage_km': 27000, 'fuel_consumption': 10, 'fuel_level': 80}\n"
     ]
    }
   ],
   "source": [
    "# Week2 Homework5\n",
    "class Car:\n",
    "    def __init__(self, brand, milage_km):\n",
    "        self.brand = brand\n",
    "        self.milage_km = milage_km\n",
    "\n",
    "    def drive(self, distance_km):\n",
    "        self.milage_km += distance_km\n",
    "\n",
    "class ElectricCar(Car):\n",
    "    def __init__(self, brand, milage_km, range):\n",
    "        super().__init__(brand, milage_km)\n",
    "        self.range = range\n",
    "\n",
    "    def drive(self, distance_km):\n",
    "        super().drive(distance_km)\n",
    "        self.range -= distance_km\n",
    "\n",
    "class IceCar(Car):\n",
    "    def __init__(self, brand, milage_km, fuel_consumption, fuel_level):\n",
    "        Car.__init__(self, brand, milage_km)\n",
    "        self.fuel_consumption = fuel_consumption\n",
    "        self.fuel_level = fuel_level\n",
    "\n",
    "    def drive(self, distance_km):\n",
    "        super().drive(distance_km)\n",
    "        self.fuel_level -= distance_km * self.fuel_consumption/100\n",
    "\n",
    "my_car = ElectricCar(\"Toyota\", 40000, 10000)\n",
    "print(my_car.__dict__) \n",
    "my_car.drive(50)\n",
    "print(my_car.__dict__) \n",
    "my_car.drive(30)\n",
    "print(my_car.__dict__) \n",
    "my_car.drive(20)\n",
    "print(my_car.__dict__) \n",
    "\n",
    "my_ice = IceCar(\"Ractis\", 20000, 10, 80)\n",
    "print(my_ice.__dict__) \n",
    "my_ice.drive(50)\n",
    "my_ice(my_ice.__dict__) \n",
    "my_ice.drive(30)\n",
    "print(my_ice.__dict__) \n",
    "my_ice.drive(20)\n",
    "print(my_ice.__dict__) "
   ]
  },
  {
   "cell_type": "code",
   "execution_count": null,
   "metadata": {},
   "outputs": [],
   "source": [
    "# Week2 Homework6\n",
    "\n",
    "class Shape:\n",
    "    def area():\n",
    "        pass\n",
    "\n",
    "class Triangle(Shape):\n",
    "    def __init__(self, a, b, c):\n",
    "        self.a = a\n",
    "        self.b = b\n",
    "        self.c = c\n",
    "\n",
    "        for i in range(3):\n",
    "            assert a+b > c\n",
    "\n",
    "    def area():\n",
    "        pass\n",
    "    \n",
    "trangle1 = Triangle(3,4,5)"
   ]
  }
 ],
 "metadata": {
  "kernelspec": {
   "display_name": "Python 3",
   "language": "python",
   "name": "python3"
  },
  "language_info": {
   "codemirror_mode": {
    "name": "ipython",
    "version": 3
   },
   "file_extension": ".py",
   "mimetype": "text/x-python",
   "name": "python",
   "nbconvert_exporter": "python",
   "pygments_lexer": "ipython3",
   "version": "3.11.4"
  }
 },
 "nbformat": 4,
 "nbformat_minor": 2
}
