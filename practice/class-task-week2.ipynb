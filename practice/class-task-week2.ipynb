{
 "cells": [
  {
   "cell_type": "code",
   "execution_count": 2,
   "metadata": {},
   "outputs": [],
   "source": [
    "class Car:\n",
    "    pass"
   ]
  },
  {
   "cell_type": "code",
   "execution_count": 4,
   "metadata": {},
   "outputs": [
    {
     "name": "stdout",
     "output_type": "stream",
     "text": [
      "<__main__.Car object at 0x000001F6FF4EEB10> <__main__.Car object at 0x000001F6FF4D8890>\n"
     ]
    }
   ],
   "source": [
    "class Car:\n",
    "    def __init__(self, brand):\n",
    "        self.brand = brand\n",
    "\n",
    "my_car = Car(brand='Ractis')\n",
    "your_car = Car(brand='Toyota')\n",
    "print(my_car, your_car)"
   ]
  },
  {
   "cell_type": "code",
   "execution_count": 9,
   "metadata": {},
   "outputs": [
    {
     "name": "stdout",
     "output_type": "stream",
     "text": [
      "{'brand': 'Toyota', 'milage_km': 70000}\n"
     ]
    }
   ],
   "source": [
    "class Car:\n",
    "    def __init__(self, brand, milage_km):\n",
    "        self.brand = brand\n",
    "        self.milage_km = milage_km\n",
    "\n",
    "    def drive(self, distance_km):\n",
    "        self.milage_km += distance_km\n",
    "\n",
    "my_car = Car(brand=\"Toyota\", milage_km=40000)\n",
    "my_car.drive(30000)\n",
    "# my_car = Car(\"Toyota\", 40000)\n",
    "print(my_car.__dict__) # {'brand': 'Toyota', 'milage_km': 40000}"
   ]
  }
 ],
 "metadata": {
  "kernelspec": {
   "display_name": "Python 3",
   "language": "python",
   "name": "python3"
  },
  "language_info": {
   "codemirror_mode": {
    "name": "ipython",
    "version": 3
   },
   "file_extension": ".py",
   "mimetype": "text/x-python",
   "name": "python",
   "nbconvert_exporter": "python",
   "pygments_lexer": "ipython3",
   "version": "3.11.4"
  }
 },
 "nbformat": 4,
 "nbformat_minor": 2
}
