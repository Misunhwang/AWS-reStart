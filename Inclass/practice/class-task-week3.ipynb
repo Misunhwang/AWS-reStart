{
 "cells": [
  {
   "cell_type": "code",
   "execution_count": 33,
   "metadata": {},
   "outputs": [
    {
     "name": "stdout",
     "output_type": "stream",
     "text": [
      "1 Joanne Rowling\n",
      "<re.Match object; span=(0, 14), match='Joanne Rowling'>\n",
      "True\n"
     ]
    }
   ],
   "source": [
    "import re\n",
    "\n",
    "def match_regex1(input_str:str) -> bool:\n",
    "    print(\"1 \" + input_str)\n",
    "    #test_results = re.search(r\"[A-Z]{1}[a-z]* [A-Z]{1}[a-z]*\", input_str)\n",
    "    test_results = re.search(r\"^[A-Z][a-z]* [A-Z][a-z]*$\", input_str)\n",
    "    print(test_results)\n",
    "    return test_results != None\n",
    "\n",
    "print(match_regex1(\"Joanne Rowling\"))"
   ]
  }
 ],
 "metadata": {
  "kernelspec": {
   "display_name": "Python 3",
   "language": "python",
   "name": "python3"
  },
  "language_info": {
   "codemirror_mode": {
    "name": "ipython",
    "version": 3
   },
   "file_extension": ".py",
   "mimetype": "text/x-python",
   "name": "python",
   "nbconvert_exporter": "python",
   "pygments_lexer": "ipython3",
   "version": "3.11.4"
  }
 },
 "nbformat": 4,
 "nbformat_minor": 2
}
